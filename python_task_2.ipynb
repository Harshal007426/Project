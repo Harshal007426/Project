{
 "cells": [
  {
   "cell_type": "code",
   "execution_count": null,
   "id": "8fca94df-eae9-4804-8e21-1cf6f677275d",
   "metadata": {},
   "outputs": [],
   "source": [
    "import pandas as pd"
   ]
  },
  {
   "cell_type": "code",
   "execution_count": null,
   "id": "10f07f0a-d09d-45f2-985e-23701e11f46b",
   "metadata": {},
   "outputs": [],
   "source": [
    "def calculate_distance_matrix(df)->pd.DataFrame():\n",
    "   \n",
    "\n",
    "    Args:\n",
    "        df (pandas.DataFrame)\n",
    "\n",
    "    Returns:\n",
    "        pandas.DataFrame: Distance matrix\n",
    "\n",
    "    return df\n",
    "\n"
   ]
  },
  {
   "cell_type": "code",
   "execution_count": null,
   "id": "53373395-1f7c-4fda-b76c-e0b61daeb694",
   "metadata": {},
   "outputs": [],
   "source": [
    "def unroll_distance_matrix(df)->pd.DataFrame():\n",
    "    \n",
    "    Args:\n",
    "        df (pandas.DataFrame)\n",
    "\n",
    "    Returns:\n",
    "        pandas.DataFrame: Unrolled DataFrame containing columns 'id_start', 'id_end', and 'distance'.\n",
    "    \n",
    "    return df"
   ]
  },
  {
   "cell_type": "code",
   "execution_count": null,
   "id": "5d8d067c-3172-4594-9053-326d6e72f018",
   "metadata": {},
   "outputs": [],
   "source": [
    "def find_ids_within_ten_percentage_threshold(df, reference_id)->pd.DataFrame():\n",
    "   \n",
    "    Args:\n",
    "        df (pandas.DataFrame)\n",
    "        reference_id (int)\n",
    "\n",
    "    Returns:\n",
    "        pandas.DataFrame: DataFrame with IDs whose average distance is within the specified percentage threshold\n",
    "                          of the reference ID's average distance.\n",
    "\n",
    "    return df"
   ]
  },
  {
   "cell_type": "code",
   "execution_count": null,
   "id": "d53eb192-7ff4-4ff2-ad43-1803937faeeb",
   "metadata": {},
   "outputs": [],
   "source": [
    "def calculate_toll_rate(df)->pd.DataFrame():\n",
    "   \n",
    "    Args:\n",
    "        df (pandas.DataFrame)\n",
    "\n",
    "    Returns:\n",
    "        pandas.DataFrame\n",
    "   \n",
    "    return df"
   ]
  },
  {
   "cell_type": "code",
   "execution_count": null,
   "id": "7c67a18f-697b-4182-87f6-af5489b3bb15",
   "metadata": {},
   "outputs": [],
   "source": [
    "def calculate_time_based_toll_rates(df)->pd.DataFrame():\n",
    "    \n",
    "\n",
    "    Args:\n",
    "        df (pandas.DataFrame)\n",
    "\n",
    "    Returns:\n",
    "        pandas.DataFrame\n",
    "\n",
    "    return df"
   ]
  }
 ],
 "metadata": {
  "kernelspec": {
   "display_name": "Python 3 (ipykernel)",
   "language": "python",
   "name": "python3"
  },
  "language_info": {
   "codemirror_mode": {
    "name": "ipython",
    "version": 3
   },
   "file_extension": ".py",
   "mimetype": "text/x-python",
   "name": "python",
   "nbconvert_exporter": "python",
   "pygments_lexer": "ipython3",
   "version": "3.11.5"
  }
 },
 "nbformat": 4,
 "nbformat_minor": 5
}
