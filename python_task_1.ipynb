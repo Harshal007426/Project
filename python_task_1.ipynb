{
 "cells": [
  {
   "cell_type": "code",
   "execution_count": null,
   "id": "9fcc3846-2b65-40ed-9628-872b5e3a98cb",
   "metadata": {},
   "outputs": [],
   "source": [
    "import pandas as pd"
   ]
  },
  {
   "cell_type": "code",
   "execution_count": null,
   "id": "9780d9ea-1492-4b21-9fe4-2519cf62f3d8",
   "metadata": {},
   "outputs": [],
   "source": [
    "def generate_car_matrix(df)->pd.DataFrame:\n",
    "    \n",
    "\n",
    "    Args:\n",
    "        df (pandas.DataFrame)\n",
    "\n",
    "    Returns:\n",
    "        pandas.DataFrame: Matrix generated with \n",
    "    \n",
    "    # Write your logic here\n",
    "\n",
    "    return df"
   ]
  },
  {
   "cell_type": "code",
   "execution_count": null,
   "id": "4125e26b-c203-47fd-b59b-4e7680acaaa8",
   "metadata": {},
   "outputs": [],
   "source": [
    "def get_type_count(df)->dict:\n",
    "    \n",
    "\n",
    "    Args:\n",
    "        df (pandas.DataFrame)\n",
    "\n",
    "    Returns:\n",
    "        dict: A dictionary with car types as keys and their counts as values.\n",
    "\n",
    "    return dict()"
   ]
  },
  {
   "cell_type": "code",
   "execution_count": null,
   "id": "d21efba6-a77a-4a3a-8d1e-8d709f67164d",
   "metadata": {},
   "outputs": [],
   "source": [
    "def get_bus_indexes(df)->list:\n",
    "\n",
    "    Args:\n",
    "        df (pandas.DataFrame)\n",
    "\n",
    "    Returns:\n",
    "        list: List of indexes where   #'bus' values exceed twice the mean.\n",
    "\n",
    "    return list()\n"
   ]
  },
  {
   "cell_type": "code",
   "execution_count": null,
   "id": "69ac2a0f-2a3f-48ba-a58b-e038d6db0465",
   "metadata": {},
   "outputs": [],
   "source": [
    "def filter_routes(df)->list:\n",
    "\n",
    "    Args:\n",
    "        df (pandas.DataFrame)\n",
    "\n",
    "    Returns:\n",
    "        list: List of route names with average #'truck' values greater than 7.\n",
    "        \n",
    "    return list()\n"
   ]
  },
  {
   "cell_type": "code",
   "execution_count": null,
   "id": "9ffc915f-4816-4366-a2c0-eea7efc04bca",
   "metadata": {},
   "outputs": [],
   "source": [
    "def multiply_matrix(matrix)->pd.DataFrame:\n",
    "\n",
    "    Args:\n",
    "        matrix (pandas.DataFrame)\n",
    "\n",
    "    Returns:\n",
    "        pandas.DataFrame: Modified matrix with values multiplied based on custom conditions.\n",
    "    \n",
    "    return matrix\n"
   ]
  },
  {
   "cell_type": "code",
   "execution_count": null,
   "id": "d9329330-f572-48c6-826d-ccaa5e61b70b",
   "metadata": {},
   "outputs": [],
   "source": [
    "def time_check(df)->pd.Series:\n",
    "    \n",
    "    Args:\n",
    "        df (pandas.DataFrame)\n",
    "\n",
    "    Returns:\n",
    "        pd.Series: return a boolean series\n",
    "   \n",
    "    return pd.Series()"
   ]
  },
  {
   "cell_type": "code",
   "execution_count": null,
   "id": "4ab63337-3543-413e-85ad-cf57b776b4d5",
   "metadata": {},
   "outputs": [],
   "source": []
  },
  {
   "cell_type": "code",
   "execution_count": null,
   "id": "ebda9cfa-cad4-4994-8ec6-1a1796b9904b",
   "metadata": {},
   "outputs": [],
   "source": []
  },
  {
   "cell_type": "code",
   "execution_count": null,
   "id": "4f9af329-429e-4f08-b7ae-a03c6b7f7c0e",
   "metadata": {},
   "outputs": [],
   "source": []
  },
  {
   "cell_type": "code",
   "execution_count": null,
   "id": "5fe33770-bf60-4583-9d6a-b5a73bcb4e85",
   "metadata": {},
   "outputs": [],
   "source": []
  },
  {
   "cell_type": "code",
   "execution_count": null,
   "id": "b5b6e4b6-40b2-4f89-9599-df84e5ec0bf7",
   "metadata": {},
   "outputs": [],
   "source": []
  },
  {
   "cell_type": "code",
   "execution_count": null,
   "id": "3399b5c8-881c-4e1a-9331-c338b556e105",
   "metadata": {},
   "outputs": [],
   "source": []
  },
  {
   "cell_type": "code",
   "execution_count": null,
   "id": "74f58082-9f0b-448f-a98a-4da3b8933e9b",
   "metadata": {},
   "outputs": [],
   "source": []
  },
  {
   "cell_type": "code",
   "execution_count": null,
   "id": "8bb96066-587b-4ef7-9ddf-57a2ed417a44",
   "metadata": {},
   "outputs": [],
   "source": []
  }
 ],
 "metadata": {
  "kernelspec": {
   "display_name": "Python 3 (ipykernel)",
   "language": "python",
   "name": "python3"
  },
  "language_info": {
   "codemirror_mode": {
    "name": "ipython",
    "version": 3
   },
   "file_extension": ".py",
   "mimetype": "text/x-python",
   "name": "python",
   "nbconvert_exporter": "python",
   "pygments_lexer": "ipython3",
   "version": "3.11.5"
  }
 },
 "nbformat": 4,
 "nbformat_minor": 5
}
